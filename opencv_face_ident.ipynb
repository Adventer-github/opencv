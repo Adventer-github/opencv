import cv2

def viewImage(image, name_of_window, text):
    final_wide = 500
    r = float(final_wide) / image.shape[1]
    dim = (final_wide, int(image.shape[0] * r))
    resized = cv2.resize(image, dim, interpolation = cv2.INTER_AREA)

    cv2.putText(resized, text, (20, 30),cv2.FONT_HERSHEY_SIMPLEX, 0.7, (255, 255, 0), 2)
    
    cv2.imshow(name_of_window, resized)
    cv2.waitKey(0)
    cv2.destroyAllWindows()
    
image_path = "D:/bomzh_s_butylkoy.jpg"
face_cascade = cv2.CascadeClassifier('D:/anaconda/envs/tensorflow-sessions/Library/etc/haarcascades/haarcascade_frontalface_default.xml')
image = cv2.imread(image_path)
gray = cv2.cvtColor(image, cv2.COLOR_BGR2GRAY)
faces = face_cascade.detectMultiScale(
    gray,
    scaleFactor= 1.1,
    minNeighbors= 5,
    minSize=(10,10),
)
faces_detected = "Faces total found: " + format(len(faces))
print(faces_detected)

for (x, y, w, h) in faces:
    cv2.rectangle(image, (x, y), (x+w, y+h), (255, 255, 0), 2)
viewImage(image,'OpenCV Face Detection', faces_detected)
